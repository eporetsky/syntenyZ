{
 "cells": [
  {
   "cell_type": "code",
   "execution_count": 15,
   "metadata": {},
   "outputs": [],
   "source": [
    "from pysam import FastaFile\n",
    "import gzip\n",
    "import pathlib"
   ]
  },
  {
   "cell_type": "code",
   "execution_count": 58,
   "metadata": {},
   "outputs": [
    {
     "name": "stdout",
     "output_type": "stream",
     "text": [
      "\n",
      "\n",
      "Building a new DB, current time: 08/21/2021 15:49:18\n",
      "New DB name:   /Users/eporetsky/Dropbox/Git/FASTA/BLASTdb/B73.db\n",
      "New DB title:  B73\n",
      "Sequence type: Nucleotide\n",
      "Keep MBits: T\n",
      "Maximum file size: 1000000000B\n",
      "Adding sequences from FASTA; added 685 sequences in 145.682 seconds.\n",
      "\n",
      "\n"
     ]
    }
   ],
   "source": [
    "!gunzip -c Zm-B73-REFERENCE-NAM-5.0.fa.gz | makeblastdb -title B73 -taxid 1 -dbtype nucl -parse_seqids -in - -blastdb_version 4  -out BLASTdb/B73.db"
   ]
  },
  {
   "cell_type": "code",
   "execution_count": 57,
   "metadata": {},
   "outputs": [
    {
     "name": "stdout",
     "output_type": "stream",
     "text": [
      "\n",
      "\n",
      "Building a new DB, current time: 08/21/2021 15:08:33\n",
      "New DB name:   /Users/eporetsky/Dropbox/Git/FASTA/BLASTdb/B73.db\n",
      "New DB title:  B73\n",
      "Sequence type: Nucleotide\n",
      "Keep MBits: T\n",
      "Maximum file size: 1000000000B\n",
      "Adding sequences from FASTA; added 266 sequences in 171.753 seconds.\n",
      "\n",
      "\n",
      "\n",
      "\n",
      "Building a new DB, current time: 08/21/2021 15:11:25\n",
      "New DB name:   /Users/eporetsky/Dropbox/Git/FASTA/BLASTdb/W22.db\n",
      "New DB title:  W22\n",
      "Sequence type: Nucleotide\n",
      "Keep MBits: T\n",
      "Maximum file size: 1000000000B\n",
      "Adding sequences from FASTA; added 11 sequences in 175.843 seconds.\n",
      "\n",
      "\n",
      "\n",
      "\n",
      "Building a new DB, current time: 08/21/2021 15:14:22\n",
      "New DB name:   /Users/eporetsky/Dropbox/Git/FASTA/BLASTdb/Mo17.db\n",
      "New DB title:  Mo17\n",
      "Sequence type: Nucleotide\n",
      "Keep MBits: T\n",
      "Maximum file size: 1000000000B\n",
      "Adding sequences from FASTA; added 2208 sequences in 197.813 seconds.\n",
      "\n",
      "\n"
     ]
    }
   ],
   "source": [
    "!gunzip -c Zm-B73-REFERENCE-NAM-5.0.fasta.gz | makeblastdb -title  -taxid 1 -dbtype nucl -parse_seqids -in - -blastdb_version 4  -out BLASTdb/B73.db\n",
    "!gunzip -c Zm-W22-REFERENCE-NRGENE-2.0.fa.gz | makeblastdb -title W22 -taxid 2 -dbtype nucl -parse_seqids -in - -blastdb_version 4  -out BLASTdb/W22.db\n",
    "!gunzip -c Zm-Mo17-REFERENCE-CAU-1.0.fa.gz | makeblastdb -title Mo17 -taxid 3 -dbtype nucl -parse_seqids -in - -blastdb_version 4  -out BLASTdb/Mo17.db\n"
   ]
  },
  {
   "cell_type": "code",
   "execution_count": 64,
   "metadata": {},
   "outputs": [
    {
     "name": "stdout",
     "output_type": "stream",
     "text": [
      "USAGE\r\n",
      "  makeblastdb [-h] [-help] [-in input_file] [-input_type type]\r\n",
      "    -dbtype molecule_type [-title database_title] [-parse_seqids]\r\n",
      "    [-hash_index] [-mask_data mask_data_files] [-mask_id mask_algo_ids]\r\n",
      "    [-mask_desc mask_algo_descriptions] [-gi_mask]\r\n",
      "    [-gi_mask_name gi_based_mask_names] [-out database_name]\r\n",
      "    [-blastdb_version version] [-max_file_sz number_of_bytes]\r\n",
      "    [-logfile File_Name] [-taxid TaxID] [-taxid_map TaxIDMapFile] [-version]\r\n",
      "\r\n",
      "DESCRIPTION\r\n",
      "   Application to create BLAST databases, version 2.12.0+\r\n",
      "\r\n",
      "Use '-help' to print detailed descriptions of command line arguments\r\n",
      "========================================================================\r\n",
      "\r\n",
      "Error: Too many positional arguments (1), the offending value: 37\r\n",
      "Error:  (CArgException::eSynopsis) Too many positional arguments (1), the offending value: 37\r\n"
     ]
    }
   ],
   "source": [
    "!makeblastdb -in GCA_014529475.1_A188Ref1_genomic.fna -title  -taxid 37 -dbtype nucl -parse_seqids -in - -blastdb_version 4  -out BLASTdb/A188.db"
   ]
  },
  {
   "cell_type": "code",
   "execution_count": 63,
   "metadata": {},
   "outputs": [
    {
     "name": "stdout",
     "output_type": "stream",
     "text": [
      "USAGE\n",
      "  makeblastdb [-h] [-help] [-in input_file] [-input_type type]\n",
      "    -dbtype molecule_type [-title database_title] [-parse_seqids]\n",
      "    [-hash_index] [-mask_data mask_data_files] [-mask_id mask_algo_ids]\n",
      "    [-mask_desc mask_algo_descriptions] [-gi_mask]\n",
      "    [-gi_mask_name gi_based_mask_names] [-out database_name]\n",
      "    [-blastdb_version version] [-max_file_sz number_of_bytes]\n",
      "    [-logfile File_Name] [-taxid TaxID] [-taxid_map TaxIDMapFile] [-version]\n",
      "\n",
      "DESCRIPTION\n",
      "   Application to create BLAST databases, version 2.12.0+\n",
      "\n",
      "Use '-help' to print detailed descriptions of command line arguments\n",
      "========================================================================\n",
      "\n",
      "Error: Too many positional arguments (1), the offending value: 37\n",
      "Error:  (CArgException::eSynopsis) Too many positional arguments (1), the offending value: 37\n",
      "gunzip: error writing to output: Broken pipe\n",
      "gunzip: GCA_014529475.1_A188Ref1_genomic.fna.gz: uncompress failed\n"
     ]
    }
   ],
   "source": [
    "!gunzip -c GCA_014529475.1_A188Ref1_genomic.fna.gz | makeblastdb -title  -taxid 37 -dbtype nucl -parse_seqids -in - -blastdb_version 4  -out BLASTdb/A188.db"
   ]
  },
  {
   "cell_type": "code",
   "execution_count": 3,
   "metadata": {
    "scrolled": true
   },
   "outputs": [
    {
     "name": "stdout",
     "output_type": "stream",
     "text": [
      "\n",
      "\n",
      "Building a new DB, current time: 08/11/2021 14:42:38\n",
      "New DB name:   /Users/eporetsky/Dropbox/Git/FASTA/BLASTdb/B73.db\n",
      "New DB title:  B73\n",
      "Sequence type: Nucleotide\n",
      "Keep MBits: T\n",
      "Maximum file size: 1000000000B\n",
      "Adding sequences from FASTA; added 266 sequences in 241.01 seconds.\n",
      "\n",
      "\n",
      "\n",
      "\n",
      "Building a new DB, current time: 08/11/2021 14:46:40\n",
      "New DB name:   /Users/eporetsky/Dropbox/Git/FASTA/BLASTdb/W22.db\n",
      "New DB title:  W22\n",
      "Sequence type: Nucleotide\n",
      "Deleted existing Nucleotide BLAST database named /Users/eporetsky/Dropbox/Git/FASTA/BLASTdb/W22.db\n",
      "Keep MBits: T\n",
      "Maximum file size: 1000000000B\n",
      "Adding sequences from FASTA; added 11 sequences in 195.351 seconds.\n",
      "\n",
      "\n",
      "\n",
      "\n",
      "Building a new DB, current time: 08/11/2021 14:49:56\n",
      "New DB name:   /Users/eporetsky/Dropbox/Git/FASTA/BLASTdb/Mo17.db\n",
      "New DB title:  Mo17\n",
      "Sequence type: Nucleotide\n",
      "Deleted existing Nucleotide BLAST database named /Users/eporetsky/Dropbox/Git/FASTA/BLASTdb/Mo17.db\n",
      "Keep MBits: T\n",
      "Maximum file size: 1000000000B\n",
      "Adding sequences from FASTA; added 2208 sequences in 227.062 seconds.\n",
      "\n",
      "\n",
      "\n",
      "\n",
      "Building a new DB, current time: 08/11/2021 14:53:44\n",
      "New DB name:   /Users/eporetsky/Dropbox/Git/FASTA/BLASTdb/B97.db\n",
      "New DB title:  B97\n",
      "Sequence type: Nucleotide\n",
      "Deleted existing Nucleotide BLAST database named /Users/eporetsky/Dropbox/Git/FASTA/BLASTdb/B97.db\n",
      "Keep MBits: T\n",
      "Maximum file size: 1000000000B\n",
      "Adding sequences from FASTA; added 800 sequences in 185.722 seconds.\n",
      "\n",
      "\n",
      "\n",
      "\n",
      "Building a new DB, current time: 08/11/2021 14:56:50\n",
      "New DB name:   /Users/eporetsky/Dropbox/Git/FASTA/BLASTdb/CML52.db\n",
      "New DB title:  CML52\n",
      "Sequence type: Nucleotide\n",
      "Deleted existing Nucleotide BLAST database named /Users/eporetsky/Dropbox/Git/FASTA/BLASTdb/CML52.db\n",
      "Keep MBits: T\n",
      "Maximum file size: 1000000000B\n",
      "Adding sequences from FASTA; added 1682 sequences in 231.356 seconds.\n",
      "\n",
      "\n",
      "\n",
      "\n",
      "Building a new DB, current time: 08/11/2021 15:00:43\n",
      "New DB name:   /Users/eporetsky/Dropbox/Git/FASTA/BLASTdb/CML103.db\n",
      "New DB title:  CML103\n",
      "Sequence type: Nucleotide\n",
      "Deleted existing Nucleotide BLAST database named /Users/eporetsky/Dropbox/Git/FASTA/BLASTdb/CML103.db\n",
      "Keep MBits: T\n",
      "Maximum file size: 1000000000B\n",
      "Adding sequences from FASTA; added 632 sequences in 240.987 seconds.\n",
      "\n",
      "\n",
      "\n",
      "\n",
      "Building a new DB, current time: 08/11/2021 15:04:44\n",
      "New DB name:   /Users/eporetsky/Dropbox/Git/FASTA/BLASTdb/CML228.db\n",
      "New DB title:  CML228\n",
      "Sequence type: Nucleotide\n",
      "Deleted existing Nucleotide BLAST database named /Users/eporetsky/Dropbox/Git/FASTA/BLASTdb/CML228.db\n",
      "Keep MBits: T\n",
      "Maximum file size: 1000000000B\n",
      "Adding sequences from FASTA; added 1533 sequences in 181.11 seconds.\n",
      "\n",
      "\n",
      "\n",
      "\n",
      "Building a new DB, current time: 08/11/2021 15:07:46\n",
      "New DB name:   /Users/eporetsky/Dropbox/Git/FASTA/BLASTdb/CML247.db\n",
      "New DB title:  CML247\n",
      "Sequence type: Nucleotide\n",
      "Deleted existing Nucleotide BLAST database named /Users/eporetsky/Dropbox/Git/FASTA/BLASTdb/CML247.db\n",
      "Keep MBits: T\n",
      "Maximum file size: 1000000000B\n",
      "Adding sequences from FASTA; added 1069 sequences in 157.792 seconds.\n",
      "\n",
      "\n",
      "\n",
      "\n",
      "Building a new DB, current time: 08/11/2021 15:10:25\n",
      "New DB name:   /Users/eporetsky/Dropbox/Git/FASTA/BLASTdb/CML277.db\n",
      "New DB title:  CML277\n",
      "Sequence type: Nucleotide\n",
      "Deleted existing Nucleotide BLAST database named /Users/eporetsky/Dropbox/Git/FASTA/BLASTdb/CML277.db\n",
      "Keep MBits: T\n",
      "Maximum file size: 1000000000B\n",
      "Adding sequences from FASTA; added 906 sequences in 161.599 seconds.\n",
      "\n",
      "\n",
      "\n",
      "\n",
      "Building a new DB, current time: 08/11/2021 15:13:07\n",
      "New DB name:   /Users/eporetsky/Dropbox/Git/FASTA/BLASTdb/CML322.db\n",
      "New DB title:  CML322\n",
      "Sequence type: Nucleotide\n",
      "Deleted existing Nucleotide BLAST database named /Users/eporetsky/Dropbox/Git/FASTA/BLASTdb/CML322.db\n",
      "Keep MBits: T\n",
      "Maximum file size: 1000000000B\n",
      "Adding sequences from FASTA; added 1268 sequences in 137.216 seconds.\n",
      "\n",
      "\n",
      "\n",
      "\n",
      "Building a new DB, current time: 08/11/2021 15:15:25\n",
      "New DB name:   /Users/eporetsky/Dropbox/Git/FASTA/BLASTdb/CML333.db\n",
      "New DB title:  CML333\n",
      "Sequence type: Nucleotide\n",
      "Deleted existing Nucleotide BLAST database named /Users/eporetsky/Dropbox/Git/FASTA/BLASTdb/CML333.db\n",
      "Keep MBits: T\n",
      "Maximum file size: 1000000000B\n",
      "Adding sequences from FASTA; added 1092 sequences in 139.347 seconds.\n",
      "\n",
      "\n",
      "\n",
      "\n",
      "Building a new DB, current time: 08/11/2021 15:17:45\n",
      "New DB name:   /Users/eporetsky/Dropbox/Git/FASTA/BLASTdb/CML69.db\n",
      "New DB title:  CML69\n",
      "Sequence type: Nucleotide\n",
      "Deleted existing Nucleotide BLAST database named /Users/eporetsky/Dropbox/Git/FASTA/BLASTdb/CML69.db\n",
      "Keep MBits: T\n",
      "Maximum file size: 1000000000B\n",
      "Adding sequences from FASTA; added 1331 sequences in 151.723 seconds.\n",
      "\n",
      "\n",
      "\n",
      "\n",
      "Building a new DB, current time: 08/11/2021 15:20:21\n",
      "New DB name:   /Users/eporetsky/Dropbox/Git/FASTA/BLASTdb/EP1.db\n",
      "New DB title:  EP1\n",
      "Sequence type: Nucleotide\n",
      "Deleted existing Nucleotide BLAST database named /Users/eporetsky/Dropbox/Git/FASTA/BLASTdb/EP1.db\n",
      "Keep MBits: T\n",
      "Maximum file size: 1000000000B\n",
      "Adding sequences from FASTA; added 60567 sequences in 153.311 seconds.\n",
      "\n",
      "\n",
      "\n",
      "\n",
      "Building a new DB, current time: 08/11/2021 15:22:55\n",
      "New DB name:   /Users/eporetsky/Dropbox/Git/FASTA/BLASTdb/F7.db\n",
      "New DB title:  F7\n",
      "Sequence type: Nucleotide\n",
      "Deleted existing Nucleotide BLAST database named /Users/eporetsky/Dropbox/Git/FASTA/BLASTdb/F7.db\n",
      "Keep MBits: T\n",
      "Maximum file size: 1000000000B\n",
      "Adding sequences from FASTA; added 62610 sequences in 150.455 seconds.\n",
      "\n",
      "\n",
      "\n",
      "\n",
      "Building a new DB, current time: 08/11/2021 15:25:26\n",
      "New DB name:   /Users/eporetsky/Dropbox/Git/FASTA/BLASTdb/HP301.db\n",
      "New DB title:  HP301\n",
      "Sequence type: Nucleotide\n",
      "Deleted existing Nucleotide BLAST database named /Users/eporetsky/Dropbox/Git/FASTA/BLASTdb/HP301.db\n",
      "Keep MBits: T\n",
      "Maximum file size: 1000000000B\n",
      "Adding sequences from FASTA; added 395 sequences in 134.74 seconds.\n",
      "\n",
      "\n",
      "\n",
      "\n",
      "Building a new DB, current time: 08/11/2021 15:27:41\n",
      "New DB name:   /Users/eporetsky/Dropbox/Git/FASTA/BLASTdb/Il14H.db\n",
      "New DB title:  Il14H\n",
      "Sequence type: Nucleotide\n",
      "Deleted existing Nucleotide BLAST database named /Users/eporetsky/Dropbox/Git/FASTA/BLASTdb/Il14H.db\n",
      "Keep MBits: T\n",
      "Maximum file size: 1000000000B\n",
      "Adding sequences from FASTA; added 282 sequences in 131.781 seconds.\n",
      "\n",
      "\n",
      "\n",
      "\n",
      "Building a new DB, current time: 08/11/2021 15:29:54\n",
      "New DB name:   /Users/eporetsky/Dropbox/Git/FASTA/BLASTdb/Ki11.db\n",
      "New DB title:  Ki11\n",
      "Sequence type: Nucleotide\n",
      "Deleted existing Nucleotide BLAST database named /Users/eporetsky/Dropbox/Git/FASTA/BLASTdb/Ki11.db\n",
      "Keep MBits: T\n",
      "Maximum file size: 1000000000B\n",
      "Adding sequences from FASTA; added 1398 sequences in 140.441 seconds.\n",
      "\n",
      "\n",
      "\n",
      "\n",
      "Building a new DB, current time: 08/11/2021 15:32:15\n",
      "New DB name:   /Users/eporetsky/Dropbox/Git/FASTA/BLASTdb/Ki3.db\n",
      "New DB title:  Ki3\n",
      "Sequence type: Nucleotide\n",
      "Deleted existing Nucleotide BLAST database named /Users/eporetsky/Dropbox/Git/FASTA/BLASTdb/Ki3.db\n",
      "Keep MBits: T\n",
      "Maximum file size: 1000000000B\n",
      "Adding sequences from FASTA; added 1165 sequences in 139.168 seconds.\n",
      "\n",
      "\n",
      "\n",
      "\n",
      "Building a new DB, current time: 08/11/2021 15:34:35\n",
      "New DB name:   /Users/eporetsky/Dropbox/Git/FASTA/BLASTdb/Ky21.db\n",
      "New DB title:  Ky21\n",
      "Sequence type: Nucleotide\n",
      "Deleted existing Nucleotide BLAST database named /Users/eporetsky/Dropbox/Git/FASTA/BLASTdb/Ky21.db\n",
      "Keep MBits: T\n",
      "Maximum file size: 1000000000B\n",
      "Adding sequences from FASTA; added 647 sequences in 135.215 seconds.\n",
      "\n",
      "\n",
      "\n",
      "\n",
      "Building a new DB, current time: 08/11/2021 15:36:51\n",
      "New DB name:   /Users/eporetsky/Dropbox/Git/FASTA/BLASTdb/M162W.db\n",
      "New DB title:  M162W\n",
      "Sequence type: Nucleotide\n",
      "Deleted existing Nucleotide BLAST database named /Users/eporetsky/Dropbox/Git/FASTA/BLASTdb/M162W.db\n",
      "Keep MBits: T\n",
      "Maximum file size: 1000000000B\n",
      "Adding sequences from FASTA; added 796 sequences in 137.72 seconds.\n",
      "\n",
      "\n",
      "\n",
      "\n",
      "Building a new DB, current time: 08/11/2021 15:39:10\n",
      "New DB name:   /Users/eporetsky/Dropbox/Git/FASTA/BLASTdb/M37W.db\n",
      "New DB title:  M37W\n",
      "Sequence type: Nucleotide\n",
      "Deleted existing Nucleotide BLAST database named /Users/eporetsky/Dropbox/Git/FASTA/BLASTdb/M37W.db\n",
      "Keep MBits: T\n",
      "Maximum file size: 1000000000B\n",
      "Adding sequences from FASTA; added 739 sequences in 144.25 seconds.\n",
      "\n",
      "\n",
      "\n",
      "\n",
      "Building a new DB, current time: 08/11/2021 15:41:34\n",
      "New DB name:   /Users/eporetsky/Dropbox/Git/FASTA/BLASTdb/Mo18W.db\n",
      "New DB title:  Mo18W\n",
      "Sequence type: Nucleotide\n",
      "Deleted existing Nucleotide BLAST database named /Users/eporetsky/Dropbox/Git/FASTA/BLASTdb/Mo18W.db\n",
      "Keep MBits: T\n",
      "Maximum file size: 1000000000B\n"
     ]
    },
    {
     "name": "stdout",
     "output_type": "stream",
     "text": [
      "Adding sequences from FASTA; added 1076 sequences in 146.393 seconds.\n",
      "\n",
      "\n",
      "\n",
      "\n",
      "Building a new DB, current time: 08/11/2021 15:44:02\n",
      "New DB name:   /Users/eporetsky/Dropbox/Git/FASTA/BLASTdb/Ms71.db\n",
      "New DB title:  Ms71\n",
      "Sequence type: Nucleotide\n",
      "Deleted existing Nucleotide BLAST database named /Users/eporetsky/Dropbox/Git/FASTA/BLASTdb/Ms71.db\n",
      "Keep MBits: T\n",
      "Maximum file size: 1000000000B\n",
      "Adding sequences from FASTA; added 1012 sequences in 137.439 seconds.\n",
      "\n",
      "\n",
      "\n",
      "\n",
      "Building a new DB, current time: 08/11/2021 15:46:20\n",
      "New DB name:   /Users/eporetsky/Dropbox/Git/FASTA/BLASTdb/NC350.db\n",
      "New DB title:  NC350\n",
      "Sequence type: Nucleotide\n",
      "Deleted existing Nucleotide BLAST database named /Users/eporetsky/Dropbox/Git/FASTA/BLASTdb/NC350.db\n",
      "Keep MBits: T\n",
      "Maximum file size: 1000000000B\n",
      "Adding sequences from FASTA; added 1379 sequences in 143.487 seconds.\n",
      "\n",
      "\n",
      "\n",
      "\n",
      "Building a new DB, current time: 08/11/2021 15:48:44\n",
      "New DB name:   /Users/eporetsky/Dropbox/Git/FASTA/BLASTdb/NC358.db\n",
      "New DB title:  NC358\n",
      "Sequence type: Nucleotide\n",
      "Deleted existing Nucleotide BLAST database named /Users/eporetsky/Dropbox/Git/FASTA/BLASTdb/NC358.db\n",
      "Keep MBits: T\n",
      "Maximum file size: 1000000000B\n",
      "Adding sequences from FASTA; added 1313 sequences in 137.826 seconds.\n",
      "\n",
      "\n",
      "\n",
      "\n",
      "Building a new DB, current time: 08/11/2021 15:51:03\n",
      "New DB name:   /Users/eporetsky/Dropbox/Git/FASTA/BLASTdb/Oh43.db\n",
      "New DB title:  Oh43\n",
      "Sequence type: Nucleotide\n",
      "Deleted existing Nucleotide BLAST database named /Users/eporetsky/Dropbox/Git/FASTA/BLASTdb/Oh43.db\n",
      "Keep MBits: T\n",
      "Maximum file size: 1000000000B\n",
      "Adding sequences from FASTA; added 757 sequences in 137.554 seconds.\n",
      "\n",
      "\n",
      "\n",
      "\n",
      "Building a new DB, current time: 08/11/2021 15:53:21\n",
      "New DB name:   /Users/eporetsky/Dropbox/Git/FASTA/BLASTdb/Oh7B.db\n",
      "New DB title:  Oh7B\n",
      "Sequence type: Nucleotide\n",
      "Deleted existing Nucleotide BLAST database named /Users/eporetsky/Dropbox/Git/FASTA/BLASTdb/Oh7B.db\n",
      "Keep MBits: T\n",
      "Maximum file size: 1000000000B\n",
      "Adding sequences from FASTA; added 615 sequences in 137.262 seconds.\n",
      "\n",
      "\n",
      "\n",
      "\n",
      "Building a new DB, current time: 08/11/2021 15:55:39\n",
      "New DB name:   /Users/eporetsky/Dropbox/Git/FASTA/BLASTdb/P39.db\n",
      "New DB title:  P39\n",
      "Sequence type: Nucleotide\n",
      "Deleted existing Nucleotide BLAST database named /Users/eporetsky/Dropbox/Git/FASTA/BLASTdb/P39.db\n",
      "Keep MBits: T\n",
      "Maximum file size: 1000000000B\n",
      "Adding sequences from FASTA; added 413 sequences in 132.425 seconds.\n",
      "\n",
      "\n",
      "\n",
      "\n",
      "Building a new DB, current time: 08/11/2021 15:57:52\n",
      "New DB name:   /Users/eporetsky/Dropbox/Git/FASTA/BLASTdb/Tx303.db\n",
      "New DB title:  Tx303\n",
      "Sequence type: Nucleotide\n",
      "Deleted existing Nucleotide BLAST database named /Users/eporetsky/Dropbox/Git/FASTA/BLASTdb/Tx303.db\n",
      "Keep MBits: T\n",
      "Maximum file size: 1000000000B\n",
      "Adding sequences from FASTA; added 1045 sequences in 139.796 seconds.\n",
      "\n",
      "\n",
      "\n",
      "\n",
      "Building a new DB, current time: 08/11/2021 16:00:13\n",
      "New DB name:   /Users/eporetsky/Dropbox/Git/FASTA/BLASTdb/Tzi8.db\n",
      "New DB title:  Tzi8\n",
      "Sequence type: Nucleotide\n",
      "Deleted existing Nucleotide BLAST database named /Users/eporetsky/Dropbox/Git/FASTA/BLASTdb/Tzi8.db\n",
      "Keep MBits: T\n",
      "Maximum file size: 1000000000B\n",
      "Adding sequences from FASTA; added 1548 sequences in 141.046 seconds.\n",
      "\n",
      "\n",
      "\n",
      "\n",
      "Building a new DB, current time: 08/11/2021 16:02:35\n",
      "New DB name:   /Users/eporetsky/Dropbox/Git/FASTA/BLASTdb/PI566673.db\n",
      "New DB title:  PI566673\n",
      "Sequence type: Nucleotide\n",
      "Deleted existing Nucleotide BLAST database named /Users/eporetsky/Dropbox/Git/FASTA/BLASTdb/PI566673.db\n",
      "Keep MBits: T\n",
      "Maximum file size: 1000000000B\n",
      "Adding sequences from FASTA; added 36121 sequences in 79.1517 seconds.\n",
      "\n",
      "\n",
      "gunzip: can't stat: Zm-B73-REFERENCE-NAM-5.0.fasta.gz (Zm-B73-REFERENCE-NAM-5.0.fasta.gz.gz): No such file or directory\n",
      "USAGE\n",
      "  makeblastdb [-h] [-help] [-in input_file] [-input_type type]\n",
      "    -dbtype molecule_type [-title database_title] [-parse_seqids]\n",
      "    [-hash_index] [-mask_data mask_data_files] [-mask_id mask_algo_ids]\n",
      "    [-mask_desc mask_algo_descriptions] [-gi_mask]\n",
      "    [-gi_mask_name gi_based_mask_names] [-out database_name]\n",
      "    [-blastdb_version version] [-max_file_sz number_of_bytes]\n",
      "    [-logfile File_Name] [-taxid TaxID] [-taxid_map TaxIDMapFile] [-version]\n",
      "\n",
      "DESCRIPTION\n",
      "   Application to create BLAST databases, version 2.12.0+\n",
      "\n",
      "Use '-help' to print detailed descriptions of command line arguments\n",
      "========================================================================\n",
      "\n",
      "Error: Too many positional arguments (1), the offending value: 32\n",
      "Error:  (CArgException::eSynopsis) Too many positional arguments (1), the offending value: 32\n"
     ]
    }
   ],
   "source": [
    "#!gunzip -c Zm-B73-REFERENCE-GRAMENE-4.0.fa.gz | makeblastdb -title B73 -taxid 1 -dbtype nucl -parse_seqids -in - -blastdb_version 4  -out BLASTdb/B73.db\n",
    "!gunzip -c Zm-W22-REFERENCE-NRGENE-2.0.fa.gz | makeblastdb -title W22 -taxid 2 -dbtype nucl -parse_seqids -in - -blastdb_version 4  -out BLASTdb/W22.db\n",
    "!gunzip -c Zm-Mo17-REFERENCE-CAU-1.0.fa.gz | makeblastdb -title Mo17 -taxid 3 -dbtype nucl -parse_seqids -in - -blastdb_version 4  -out BLASTdb/Mo17.db\n",
    "!gunzip -c Zm-B97-REFERENCE-NAM-1.0.fasta.gz | makeblastdb -title B97 -taxid 4 -dbtype nucl -parse_seqids -in - -blastdb_version 4  -out BLASTdb/B97.db\n",
    "!gunzip -c Zm-CML52-REFERENCE-NAM-1.0.fasta.gz | makeblastdb -title CML52 -taxid 5 -dbtype nucl -parse_seqids -in - -blastdb_version 4  -out BLASTdb/CML52.db\n",
    "!gunzip -c Zm-CML103-REFERENCE-NAM-1.0.fasta.gz | makeblastdb -title CML103 -taxid 6 -dbtype nucl -parse_seqids -in - -blastdb_version 4  -out BLASTdb/CML103.db\n",
    "!gunzip -c Zm-CML228-REFERENCE-NAM-1.0.fasta.gz | makeblastdb -title CML228 -taxid 7 -dbtype nucl -parse_seqids -in - -blastdb_version 4  -out BLASTdb/CML228.db\n",
    "!gunzip -c Zm-CML247-REFERENCE-NAM-1.0.fasta.gz | makeblastdb -title CML247 -taxid 8 -dbtype nucl -parse_seqids -in - -blastdb_version 4  -out BLASTdb/CML247.db\n",
    "!gunzip -c Zm-CML277-REFERENCE-NAM-1.0.fasta.gz | makeblastdb -title CML277 -taxid 9 -dbtype nucl -parse_seqids -in - -blastdb_version 4  -out BLASTdb/CML277.db\n",
    "!gunzip -c Zm-CML322-REFERENCE-NAM-1.0.fasta.gz | makeblastdb -title CML322 -taxid 10 -dbtype nucl -parse_seqids -in - -blastdb_version 4  -out BLASTdb/CML322.db\n",
    "!gunzip -c Zm-CML333-REFERENCE-NAM-1.0.fasta.gz | makeblastdb -title CML333 -taxid 11 -dbtype nucl -parse_seqids -in - -blastdb_version 4  -out BLASTdb/CML333.db\n",
    "!gunzip -c Zm-CML69-REFERENCE-NAM-1.0.fasta.gz | makeblastdb -title CML69 -taxid 12 -dbtype nucl -parse_seqids -in - -blastdb_version 4  -out BLASTdb/CML69.db\n",
    "!gunzip -c Zm-EP1-REFERENCE-TUM-1.0.fa.gz | makeblastdb -title EP1 -taxid 13 -dbtype nucl -parse_seqids -in - -blastdb_version 4  -out BLASTdb/EP1.db\n",
    "!gunzip -c Zm-F7-REFERENCE-TUM-1.0.fa.gz | makeblastdb -title F7 -taxid 14 -dbtype nucl -parse_seqids -in - -blastdb_version 4  -out BLASTdb/F7.db\n",
    "!gunzip -c Zm-HP301-REFERENCE-NAM-1.0.fasta.gz | makeblastdb -title HP301 -taxid 15 -dbtype nucl -parse_seqids -in - -blastdb_version 4  -out BLASTdb/HP301.db\n",
    "!gunzip -c Zm-Il14H-REFERENCE-NAM-1.0.fasta.gz | makeblastdb -title Il14H -taxid 16 -dbtype nucl -parse_seqids -in - -blastdb_version 4  -out BLASTdb/Il14H.db\n",
    "!gunzip -c Zm-Ki11-REFERENCE-NAM-1.0.fasta.gz | makeblastdb -title Ki11 -taxid 17 -dbtype nucl -parse_seqids -in - -blastdb_version 4  -out BLASTdb/Ki11.db\n",
    "!gunzip -c Zm-Ki3-REFERENCE-NAM-1.0.fasta.gz | makeblastdb -title Ki3 -taxid 18 -dbtype nucl -parse_seqids -in - -blastdb_version 4  -out BLASTdb/Ki3.db\n",
    "!gunzip -c Zm-Ky21-REFERENCE-NAM-1.0.fasta.gz | makeblastdb -title Ky21 -taxid 19 -dbtype nucl -parse_seqids -in - -blastdb_version 4  -out BLASTdb/Ky21.db\n",
    "!gunzip -c Zm-M162W-REFERENCE-NAM-1.0.fasta.gz | makeblastdb -title M162W -taxid 20 -dbtype nucl -parse_seqids -in - -blastdb_version 4  -out BLASTdb/M162W.db\n",
    "!gunzip -c Zm-M37W-REFERENCE-NAM-1.0.fasta.gz | makeblastdb -title M37W -taxid 21 -dbtype nucl -parse_seqids -in - -blastdb_version 4  -out BLASTdb/M37W.db\n",
    "!gunzip -c Zm-Mo18W-REFERENCE-NAM-1.0.fasta.gz | makeblastdb -title Mo18W -taxid 22 -dbtype nucl -parse_seqids -in - -blastdb_version 4  -out BLASTdb/Mo18W.db\n",
    "!gunzip -c Zm-Ms71-REFERENCE-NAM-1.0.fasta.gz | makeblastdb -title Ms71 -taxid 23 -dbtype nucl -parse_seqids -in - -blastdb_version 4  -out BLASTdb/Ms71.db\n",
    "!gunzip -c Zm-NC350-REFERENCE-NAM-1.0.fasta.gz | makeblastdb -title NC350 -taxid 24 -dbtype nucl -parse_seqids -in - -blastdb_version 4  -out BLASTdb/NC350.db\n",
    "!gunzip -c Zm-NC358-REFERENCE-NAM-1.0.fasta.gz | makeblastdb -title NC358 -taxid 25 -dbtype nucl -parse_seqids -in - -blastdb_version 4  -out BLASTdb/NC358.db\n",
    "!gunzip -c Zm-Oh43-REFERENCE-NAM-1.0.fasta.gz | makeblastdb -title Oh43 -taxid 26 -dbtype nucl -parse_seqids -in - -blastdb_version 4  -out BLASTdb/Oh43.db\n",
    "!gunzip -c Zm-Oh7B-REFERENCE-NAM-1.0.fasta.gz | makeblastdb -title Oh7B -taxid 27 -dbtype nucl -parse_seqids -in - -blastdb_version 4  -out BLASTdb/Oh7B.db\n",
    "!gunzip -c Zm-P39-REFERENCE-NAM-1.0.fasta.gz | makeblastdb -title P39 -taxid 28 -dbtype nucl -parse_seqids -in - -blastdb_version 4  -out BLASTdb/P39.db\n",
    "!gunzip -c Zm-Tx303-REFERENCE-NAM-1.0.fasta.gz | makeblastdb -title Tx303 -taxid 29 -dbtype nucl -parse_seqids -in - -blastdb_version 4  -out BLASTdb/Tx303.db\n",
    "!gunzip -c Zm-Tzi8-REFERENCE-NAM-1.0.fasta.gz | makeblastdb -title Tzi8 -taxid 30 -dbtype nucl -parse_seqids -in - -blastdb_version 4  -out BLASTdb/Tzi8.db\n",
    "!gunzip -c Zx-PI566673-REFERENCE-YAN-1.0.fa.gz | makeblastdb -title PI566673 -taxid 31 -dbtype nucl -parse_seqids -in - -blastdb_version 4  -out BLASTdb/PI566673.db\n",
    "!gunzip -c Zm-B73-REFERENCE-NAM-5.0.fasta.gz | makeblastdb -title  -taxid 1 -dbtype nucl -parse_seqids -in - -blastdb_version 4  -out BLASTdb/.db\n",
    "#!gunzip -c Zm-A188-REFERENCE-KSU-1.0.fa.gz | makeblastdb -title A188  -taxid 37 -dbtype nucl -parse_seqids -in - -blastdb_version 4  -out BLASTdb/A188.db\n",
    "# !makeblastdb -in GCA_014529475.1_A188Ref1_genomic.fna -title A188 -taxid 37 -dbtype nucl -parse_seqids -blastdb_version 4  -out BLASTdb/A188.db\n",
    "\n"
   ]
  },
  {
   "cell_type": "code",
   "execution_count": 1,
   "metadata": {},
   "outputs": [
    {
     "name": "stdout",
     "output_type": "stream",
     "text": [
      "\n",
      "\n",
      "Building a new DB, current time: 08/03/2020 20:53:55\n",
      "New DB name:   /Users/eporetsky/Dropbox/Git/FASTA/BLASTdb/Sbicolor.db\n",
      "New DB title:  Sbicolor\n",
      "Sequence type: Nucleotide\n",
      "Keep MBits: T\n",
      "Maximum file size: 1000000000B\n",
      "Adding sequences from FASTA; added 870 sequences in 50.7955 seconds.\n",
      "\n",
      "\n",
      "\n",
      "\n",
      "Building a new DB, current time: 08/03/2020 20:54:46\n",
      "New DB name:   /Users/eporetsky/Dropbox/Git/FASTA/BLASTdb/Osativa.db\n",
      "New DB title:  Osativa\n",
      "Sequence type: Nucleotide\n",
      "Keep MBits: T\n",
      "Maximum file size: 1000000000B\n",
      "Adding sequences from FASTA; added 14 sequences in 26.7387 seconds.\n",
      "\n",
      "\n",
      "\n",
      "\n",
      "Building a new DB, current time: 08/03/2020 20:55:13\n",
      "New DB name:   /Users/eporetsky/Dropbox/Git/FASTA/BLASTdb/Bdistachyon.db\n",
      "New DB title:  Bdistachyon\n",
      "Sequence type: Nucleotide\n",
      "Keep MBits: T\n",
      "Maximum file size: 1000000000B\n",
      "Adding sequences from FASTA; added 10 sequences in 18.5875 seconds.\n",
      "\n",
      "\n",
      "\n",
      "\n",
      "Building a new DB, current time: 08/03/2020 20:55:32\n",
      "New DB name:   /Users/eporetsky/Dropbox/Git/FASTA/BLASTdb/Pvirgatum.db\n",
      "New DB title:  Pvirgatum\n",
      "Sequence type: Nucleotide\n",
      "Keep MBits: T\n",
      "Maximum file size: 1000000000B\n",
      "Adding sequences from FASTA; added 626 sequences in 84.091 seconds.\n",
      "\n",
      "\n",
      "\n",
      "\n",
      "Building a new DB, current time: 08/03/2020 20:56:56\n",
      "New DB name:   /Users/eporetsky/Dropbox/Git/FASTA/BLASTdb/Sitalica.db\n",
      "New DB title:  Sitalica\n",
      "Sequence type: Nucleotide\n",
      "Keep MBits: T\n",
      "Maximum file size: 1000000000B\n",
      "Adding sequences from FASTA; added 336 sequences in 27.3073 seconds.\n",
      "\n",
      "\n"
     ]
    }
   ],
   "source": [
    "!gunzip -c JGI_Sbicolor_454_v3.0.1.fa.gz | makeblastdb -title Sbicolor -taxid 32 -dbtype nucl -in - -blastdb_version 4  -out BLASTdb/Sbicolor.db\n",
    "!gunzip -c JGI_Osativa_323_v7.0.fa.gz | makeblastdb -title Osativa -taxid 33 -dbtype nucl -in - -blastdb_version 4  -out BLASTdb/Osativa.db\n",
    "!gunzip -c JGI_Bdistachyon_556_v3.0.fa.gz | makeblastdb -title Bdistachyon -taxid 34 -dbtype nucl -in - -blastdb_version 4  -out BLASTdb/Bdistachyon.db\n",
    "!gunzip -c JGI_Pvirgatum_516_v5.0.fa.gz | makeblastdb -title Pvirgatum -taxid 35 -dbtype nucl -in - -blastdb_version 4  -out BLASTdb/Pvirgatum.db\n",
    "!gunzip -c JGI_Sitalica_312_v2.fa.gz | makeblastdb -title Sitalica -taxid 36 -dbtype nucl -in - -blastdb_version 4  -out BLASTdb/Sitalica.db"
   ]
  },
  {
   "cell_type": "code",
   "execution_count": null,
   "metadata": {},
   "outputs": [],
   "source": [
    "!blastdbcmd -db BLASTdb/B73.db -entry all -outfmt 'ID: %t  IDENTIFIER: %i   LENGTH: %l'>> test.fasta"
   ]
  },
  {
   "cell_type": "code",
   "execution_count": 66,
   "metadata": {},
   "outputs": [],
   "source": [
    "!blastdbcmd -db BLASTdb/A188.db -entry all -outfmt 'ID:%t:IDENTIFIER:%i:LENGTH:%l'> test.fasta"
   ]
  },
  {
   "cell_type": "code",
   "execution_count": 2,
   "metadata": {},
   "outputs": [],
   "source": [
    "!blastdbcmd -db BLASTdb/Sbicolor.db -entry all -outfmt 'ID: %t  IDENTIFIER: %i   LENGTH: %l'> test.fasta\n",
    "!blastdbcmd -db BLASTdb/Osativa.db -entry all -outfmt 'ID: %t  IDENTIFIER: %i   LENGTH: %l'>> test.fasta\n",
    "!blastdbcmd -db BLASTdb/Bdistachyon.db -entry all -outfmt 'ID: %t  IDENTIFIER: %i   LENGTH: %l'>> test.fasta\n",
    "!blastdbcmd -db BLASTdb/Pvirgatum.db -entry all -outfmt 'ID: %t  IDENTIFIER: %i   LENGTH: %l'>> test.fasta\n",
    "!blastdbcmd -db BLASTdb/Sitalica.db -entry all -outfmt 'ID: %t  IDENTIFIER: %i   LENGTH: %l'>> test.fasta"
   ]
  },
  {
   "cell_type": "code",
   "execution_count": 4,
   "metadata": {},
   "outputs": [],
   "source": [
    "!blastdbcmd -db BLASTdb/B73.db -entry all -outfmt 'ID: %t  IDENTIFIER: %i   LENGTH: %l'>> test.fasta\n",
    "!blastdbcmd -db BLASTdb/W22.db -entry all -outfmt 'ID: %t  IDENTIFIER: %i   LENGTH: %l'>> test.fasta\n",
    "!blastdbcmd -db BLASTdb/Mo17.db -entry all -outfmt 'ID: %t  IDENTIFIER: %i   LENGTH: %l'>> test.fasta\n",
    "!blastdbcmd -db BLASTdb/B97.db -entry all -outfmt 'ID: %t  IDENTIFIER: %i   LENGTH: %l'>> test.fasta\n",
    "!blastdbcmd -db BLASTdb/CML52.db -entry all -outfmt 'ID: %t  IDENTIFIER: %i   LENGTH: %l'>> test.fasta\n",
    "!blastdbcmd -db BLASTdb/CML103.db -entry all -outfmt 'ID: %t  IDENTIFIER: %i   LENGTH: %l'>> test.fasta\n",
    "!blastdbcmd -db BLASTdb/CML228.db -entry all -outfmt 'ID: %t  IDENTIFIER: %i   LENGTH: %l'>> test.fasta\n",
    "!blastdbcmd -db BLASTdb/CML247.db -entry all -outfmt 'ID: %t  IDENTIFIER: %i   LENGTH: %l'>> test.fasta\n",
    "!blastdbcmd -db BLASTdb/CML277.db -entry all -outfmt 'ID: %t  IDENTIFIER: %i   LENGTH: %l'>> test.fasta\n",
    "!blastdbcmd -db BLASTdb/CML322.db -entry all -outfmt 'ID: %t  IDENTIFIER: %i   LENGTH: %l'>> test.fasta\n",
    "!blastdbcmd -db BLASTdb/CML333.db -entry all -outfmt 'ID: %t  IDENTIFIER: %i   LENGTH: %l'>> test.fasta\n",
    "!blastdbcmd -db BLASTdb/CML69.db -entry all -outfmt 'ID: %t  IDENTIFIER: %i   LENGTH: %l'>> test.fasta\n",
    "!blastdbcmd -db BLASTdb/EP1.db -entry all -outfmt 'ID: %t  IDENTIFIER: %i   LENGTH: %l'>> test.fasta\n",
    "!blastdbcmd -db BLASTdb/F7.db -entry all -outfmt 'ID: %t  IDENTIFIER: %i   LENGTH: %l'>> test.fasta\n",
    "!blastdbcmd -db BLASTdb/HP301.db -entry all -outfmt 'ID: %t  IDENTIFIER: %i   LENGTH: %l'>> test.fasta\n",
    "!blastdbcmd -db BLASTdb/Il14H.db -entry all -outfmt 'ID: %t  IDENTIFIER: %i   LENGTH: %l'>> test.fasta\n",
    "!blastdbcmd -db BLASTdb/Ki11.db -entry all -outfmt 'ID: %t  IDENTIFIER: %i   LENGTH: %l'>> test.fasta\n",
    "!blastdbcmd -db BLASTdb/Ki3.db -entry all -outfmt 'ID: %t  IDENTIFIER: %i   LENGTH: %l'>> test.fasta\n",
    "!blastdbcmd -db BLASTdb/Ky21.db -entry all -outfmt 'ID: %t  IDENTIFIER: %i   LENGTH: %l'>> test.fasta\n",
    "!blastdbcmd -db BLASTdb/M162W.db -entry all -outfmt 'ID: %t  IDENTIFIER: %i   LENGTH: %l'>> test.fasta\n",
    "!blastdbcmd -db BLASTdb/M37W.db -entry all -outfmt 'ID: %t  IDENTIFIER: %i   LENGTH: %l'>> test.fasta\n",
    "!blastdbcmd -db BLASTdb/Mo18W.db -entry all -outfmt 'ID: %t  IDENTIFIER: %i   LENGTH: %l'>> test.fasta\n",
    "!blastdbcmd -db BLASTdb/Ms71.db -entry all -outfmt 'ID: %t  IDENTIFIER: %i   LENGTH: %l'>> test.fasta\n",
    "!blastdbcmd -db BLASTdb/NC350.db -entry all -outfmt 'ID: %t  IDENTIFIER: %i   LENGTH: %l'>> test.fasta\n",
    "!blastdbcmd -db BLASTdb/NC358.db -entry all -outfmt 'ID: %t  IDENTIFIER: %i   LENGTH: %l'>> test.fasta\n",
    "!blastdbcmd -db BLASTdb/Oh43.db -entry all -outfmt 'ID: %t  IDENTIFIER: %i   LENGTH: %l'>> test.fasta\n",
    "!blastdbcmd -db BLASTdb/Oh7B.db -entry all -outfmt 'ID: %t  IDENTIFIER: %i   LENGTH: %l'>> test.fasta\n",
    "!blastdbcmd -db BLASTdb/P39.db -entry all -outfmt 'ID: %t  IDENTIFIER: %i   LENGTH: %l'>> test.fasta\n",
    "!blastdbcmd -db BLASTdb/Tx303.db -entry all -outfmt 'ID: %t  IDENTIFIER: %i   LENGTH: %l'>> test.fasta\n",
    "!blastdbcmd -db BLASTdb/Tzi8.db -entry all -outfmt 'ID: %t  IDENTIFIER: %i   LENGTH: %l'>> test.fasta\n",
    "!blastdbcmd -db BLASTdb/PI566673.db -entry all -outfmt 'ID: %t  IDENTIFIER: %i   LENGTH: %l'>> test.fasta\n",
    "!blastdbcmd -db BLASTdb/A188.db -entry all -outfmt 'ID: %t  IDENTIFIER: %i   LENGTH: %l'>> test.fasta\n",
    "\n"
   ]
  },
  {
   "cell_type": "code",
   "execution_count": 12,
   "metadata": {},
   "outputs": [],
   "source": [
    "import subprocess\n",
    "\n",
    "lines = \n",
    "[\"B73\",\n",
    "\"W22\",\n",
    "\"Mo17\",\n",
    "\"B97\",\n",
    "\"CML52\",\n",
    "\"CML103\",\n",
    "\"CML228\",\n",
    "\"CML247\",\n",
    "\"CML277\",\n",
    "\"CML322\",\n",
    "\"CML333\",\n",
    "\"CML69\",\n",
    "\"EP1\",\n",
    "\"F7\",\n",
    "\"HP301\",\n",
    "\"Il14H\",\n",
    "\"Ki11\",\n",
    "\"Ki3\",\n",
    "\"Ky21\",\n",
    "\"M162W\",\n",
    "\"M37W\",\n",
    "\"Mo18W\",\n",
    "\"Ms71\",\n",
    "\"NC350\",\n",
    "\"NC358\",\n",
    "\"Oh43\",\n",
    "\"Oh7B\",\n",
    "\"P39\",\n",
    "\"Tx303\",\n",
    "\"Tzi8\",\n",
    "\"PI566673\"]\n",
    "\n",
    "import os\n"
   ]
  },
  {
   "cell_type": "code",
   "execution_count": 30,
   "metadata": {},
   "outputs": [
    {
     "data": {
      "text/plain": [
       "['lcl', 'Pt']"
      ]
     },
     "execution_count": 30,
     "metadata": {},
     "output_type": "execute_result"
    }
   ],
   "source": []
  },
  {
   "cell_type": "code",
   "execution_count": 39,
   "metadata": {},
   "outputs": [
    {
     "data": {
      "text/plain": [
       "'ad num a'"
      ]
     },
     "execution_count": 39,
     "metadata": {},
     "output_type": "execute_result"
    }
   ],
   "source": [
    "\"ad %s a\" % \"num\""
   ]
  },
  {
   "cell_type": "code",
   "execution_count": 43,
   "metadata": {},
   "outputs": [
    {
     "data": {
      "text/plain": [
       "'B73'"
      ]
     },
     "execution_count": 43,
     "metadata": {},
     "output_type": "execute_result"
    }
   ],
   "source": [
    "line"
   ]
  },
  {
   "cell_type": "code",
   "execution_count": 56,
   "metadata": {},
   "outputs": [],
   "source": [
    "f = open(\"chr2identity.csv\", \"a\")\n",
    "f.writelines(\",\".join([\"title\",\"chr\",\"identity\"+\"\\n\"]))\n",
    "\n",
    "for line in lines:\n",
    "    os.system(\"blastdbcmd -db BLASTdb/{0}.db -entry all -outfmt 'IDENTIFIER,%i,LENGTH,%l' > db.info\".format(line))\n",
    "\n",
    "    for ln in open(\"db.info\"):\n",
    "        chrom = ln.split(\",\")[1]\n",
    "        length = int(ln.split(\",\")[-1][:-1])\n",
    "        if length > 10000000:\n",
    "            f.writelines(\",\".join([line,chrom.split(\"|\")[-1],chrom+\"\\n\"]))\n",
    "        \n",
    "f.close()"
   ]
  },
  {
   "cell_type": "code",
   "execution_count": 14,
   "metadata": {},
   "outputs": [
    {
     "data": {
      "text/plain": [
       "0"
      ]
     },
     "execution_count": 14,
     "metadata": {},
     "output_type": "execute_result"
    }
   ],
   "source": [
    "os.system(\"blastdbcmd -db BLASTdb/B73.db -entry all -outfmt 'IDENTIFIER,%i,LENGTH,%l' > db.info\")\n",
    "f = open(\"demofile3.txt\", \"a\")\n",
    "f.writelines([\"See you soon!\", \"Over and out.\"])\n",
    "f.close()\n"
   ]
  },
  {
   "cell_type": "code",
   "execution_count": 11,
   "metadata": {},
   "outputs": [
    {
     "data": {
      "text/plain": [
       "CompletedProcess(args=['ls', '-l'], returncode=0)"
      ]
     },
     "execution_count": 11,
     "metadata": {},
     "output_type": "execute_result"
    }
   ],
   "source": [
    "subprocess.run([\"ls\", \"-l\"])"
   ]
  },
  {
   "cell_type": "code",
   "execution_count": null,
   "metadata": {},
   "outputs": [],
   "source": [
    "\n",
    "pathlib.Path(sys.argv[1]+\"/custom_loci\").mkdir(parents=True, exist_ok=True)\n",
    "inbred_list = os.listdir(sys.argv[1]+\"/exons_inbreds\")\n"
   ]
  },
  {
   "cell_type": "code",
   "execution_count": 34,
   "metadata": {},
   "outputs": [],
   "source": [
    "from Bio import SeqIO"
   ]
  },
  {
   "cell_type": "code",
   "execution_count": 42,
   "metadata": {},
   "outputs": [
    {
     "name": "stdout",
     "output_type": "stream",
     "text": [
      "ATGATCAATGGCCACACAACCCCCATTTTTTATCGAAAAATAGCCATGAACGACCATTTTCAATAATATCGAAGGCTAACACCTACGGATTTTTGACCAA\n",
      "16.633413791656494\n"
     ]
    }
   ],
   "source": [
    "start = time.time()\n",
    "handle = gzip.open(filename+\".fa.gz\", \"rt\")\n",
    "for record in SeqIO.parse(handle, \"fasta\"):\n",
    "    if record.id in [\"chr9\", \"Chr9\", \"9\"]:\n",
    "        seq = record.seq[100:200]\n",
    "        with open(\"B73_test.fasta\",\"a\") as output:\n",
    "                output.write('>'+\"B73\"+'\\n')\n",
    "                output.write(str(seq)+'\\n')\n",
    "\n",
    "        break\n",
    "\n",
    "print(seq)\n",
    "end = time.time()\n",
    "print(end - start)\n",
    "handle.close()"
   ]
  },
  {
   "cell_type": "code",
   "execution_count": 32,
   "metadata": {},
   "outputs": [
    {
     "name": "stdout",
     "output_type": "stream",
     "text": [
      "AAACCCTAAACCCTAAACCCTAAACCCTAAACCCTAAACCCTAAACCCTAAACCCTAAACCCTAAACCCTAAACCCTAAACCCTAAACCC\n",
      "15.132091999053955\n"
     ]
    }
   ],
   "source": [
    "import time\n",
    "start = time.time()\n",
    "filename = \"Zm-B73-REFERENCE-GRAMENE-4.0\"\n",
    "handle = gzip.open(filename+\".fa.gz\", \"rt\")\n",
    "count = 0\n",
    "dc = {}\n",
    "for line in handle:\n",
    "    # the [:-1] is to remove the trailing \\n\n",
    "    if line[0] == \">\":\n",
    "        fasta_id = line[1:-1]\n",
    "        dc[fasta_id] = \"\"\n",
    "        continue\n",
    "    dc[fasta_id] = dc[fasta_id] + line[:-1]\n",
    "    count = 1\n",
    "end = time.time()\n",
    "print(dc[\"Chr\"][10:100])\n",
    "print(end - start)"
   ]
  },
  {
   "cell_type": "code",
   "execution_count": 22,
   "metadata": {},
   "outputs": [
    {
     "data": {
      "text/plain": [
       "<function str.lower()>"
      ]
     },
     "execution_count": 22,
     "metadata": {},
     "output_type": "execute_result"
    }
   ],
   "source": [
    "\"Chr10\".lower"
   ]
  },
  {
   "cell_type": "code",
   "execution_count": 24,
   "metadata": {},
   "outputs": [],
   "source": [
    "chr_list = [\"chr1\", \"chr2\", \"chr3\", \"chr4\", \"chr5\", \"chr6\", \"chr7\", \"chr8\", \"chr9\", \"chr10\"]\n",
    "for key, value in dc.items():\n",
    "    if key.lower() in chr_list:\n",
    "        pathlib.Path(\"PFASTA/\"+filename).mkdir(parents=True, exist_ok=True)\n",
    "        compressed_pickle(\"PFASTA/\"+filename+\"/\"+key.lower(), value)"
   ]
  },
  {
   "cell_type": "code",
   "execution_count": 3,
   "metadata": {},
   "outputs": [],
   "source": [
    "import pickle\n",
    "filename = \"Zm-B73-REFERENCE-GRAMENE-4.0.pickle\"\n",
    "outfile = open(filename,'wb')\n",
    "pickle.dump(dc,outfile)\n",
    "outfile.close()\n"
   ]
  },
  {
   "cell_type": "code",
   "execution_count": 8,
   "metadata": {},
   "outputs": [],
   "source": [
    "compressed_pickle('example_cp', dc) "
   ]
  },
  {
   "cell_type": "code",
   "execution_count": 40,
   "metadata": {},
   "outputs": [
    {
     "name": "stdout",
     "output_type": "stream",
     "text": [
      "8.243916988372803\n"
     ]
    }
   ],
   "source": [
    "import time\n",
    "start = time.time()\n",
    "data = decompress_pickle('PFASTA/Zm-B73-REFERENCE-GRAMENE-4.0/chr9.pbz2') \n",
    "end = time.time()\n",
    "data[100:200]\n",
    "print(end - start)"
   ]
  },
  {
   "cell_type": "code",
   "execution_count": 31,
   "metadata": {},
   "outputs": [
    {
     "name": "stdout",
     "output_type": "stream",
     "text": [
      "TAAACCCTAAACCCTAAACC\n",
      "8.322702169418335\n"
     ]
    }
   ],
   "source": [
    "start = time.time()\n",
    "test = decompress_pickle(\"PFASTA/\"+filename+\"/chr10.pbz2\")\n",
    "print(test[100:120])\n",
    "end = time.time()\n",
    "print(end - start)"
   ]
  },
  {
   "cell_type": "code",
   "execution_count": 19,
   "metadata": {},
   "outputs": [],
   "source": [
    "# https://medium.com/better-programming/load-fast-load-big-with-compressed-pickles-5f311584507e\n",
    "# Pickle a file and then compress it into a file with extension \n",
    "def compressed_pickle(title, data):\n",
    "    with bz2.BZ2File(title + \".pbz2\", \"wb\", compresslevel=9) as f: \n",
    "        pickle.dump(data, f)\n",
    "\n",
    "# Load any compressed pickle file\n",
    "def decompress_pickle(file):\n",
    "    data = bz2.BZ2File(file, \"rb\")\n",
    "    data = pickle.load(data)\n",
    "    return data\n"
   ]
  },
  {
   "cell_type": "code",
   "execution_count": null,
   "metadata": {},
   "outputs": [],
   "source": []
  }
 ],
 "metadata": {
  "kernelspec": {
   "display_name": "Python 3",
   "language": "python",
   "name": "python3"
  },
  "language_info": {
   "codemirror_mode": {
    "name": "ipython",
    "version": 3
   },
   "file_extension": ".py",
   "mimetype": "text/x-python",
   "name": "python",
   "nbconvert_exporter": "python",
   "pygments_lexer": "ipython3",
   "version": "3.8.2"
  }
 },
 "nbformat": 4,
 "nbformat_minor": 4
}
